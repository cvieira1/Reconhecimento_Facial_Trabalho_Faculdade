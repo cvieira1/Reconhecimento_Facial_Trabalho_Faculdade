{
 "cells": [
  {
   "cell_type": "code",
   "execution_count": null,
   "metadata": {},
   "outputs": [],
   "source": [
    "# definindo bibliotecas\n",
    "\n",
    "# manipulação de arrays\n",
    "import numpy as np\n",
    "# algoritmos de machine learning\n",
    "import sklearn\n",
    "# manipulação de imagens\n",
    "import PIL as pil\n",
    "# eventos do sistema operacional\n",
    "import os\n",
    "# expressões regulares\n",
    "import re"
   ]
  },
  {
   "cell_type": "code",
   "execution_count": null,
   "metadata": {},
   "outputs": [],
   "source": [
    "# https://pillow.readthedocs.io/en/stable/handbook/tutorial.html"
   ]
  },
  {
   "cell_type": "code",
   "execution_count": null,
   "metadata": {},
   "outputs": [],
   "source": [
    "# pega todas as imagens de um diretório e retorna em uma lista\n",
    "def getAllImages(diretorio, padrao):\n",
    "    pattern = re.compile(padrao)\n",
    "    files = os.listdir(diretorio)\n",
    "    list_img = [];\n",
    "    k = 0\n",
    "    \n",
    "    for entries in files:\n",
    "        if(re.search(pattern, entries)):\n",
    "            file = diretorio + str(entries)\n",
    "            img = pil.Image.open(file).convert('L')\n",
    "            #list_img.append(img)\n",
    "            list_img.insert(k, img)\n",
    "            k = k + 1\n",
    "            \n",
    "    return list_img"
   ]
  },
  {
   "cell_type": "code",
   "execution_count": null,
   "metadata": {},
   "outputs": [],
   "source": [
    "diretorio = \"./Dados/very-easy/\"\n",
    "padrao = \".*\\.jpg\"\n",
    "\n",
    "images = getAllImages(diretorio, padrao)"
   ]
  },
  {
   "cell_type": "code",
   "execution_count": null,
   "metadata": {},
   "outputs": [],
   "source": [
    "for i in range(0, len(images)):\n",
    "    images[i].show()"
   ]
  },
  {
   "cell_type": "code",
   "execution_count": null,
   "metadata": {},
   "outputs": [],
   "source": []
  }
 ],
 "metadata": {
  "kernelspec": {
   "display_name": "Python 3",
   "language": "python",
   "name": "python3"
  },
  "language_info": {
   "codemirror_mode": {
    "name": "ipython",
    "version": 3
   },
   "file_extension": ".py",
   "mimetype": "text/x-python",
   "name": "python",
   "nbconvert_exporter": "python",
   "pygments_lexer": "ipython3",
   "version": "3.6.8"
  }
 },
 "nbformat": 4,
 "nbformat_minor": 2
}
